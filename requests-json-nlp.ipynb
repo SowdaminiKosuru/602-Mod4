{
 "cells": [
  {
   "cell_type": "markdown",
   "metadata": {
    "tags": []
   },
   "source": [
    "# Web Mining and Applied NLP (44-620)\n",
    "\n",
    "## Requests, JSON, and NLP\n",
    "\n",
    "### Sowdamini\n",
    "\n",
    "Perform the tasks described in the Markdown cells below.  When you have completed the assignment make sure your code cells have all been run (and have output beneath them) and ensure you have committed and pushed ALL of your changes to your assignment repository.\n",
    "\n",
    "Make sure you have [installed spaCy and its pipeline](https://spacy.io/usage#quickstart) and [spaCyTextBlob](https://spacy.io/universe/project/spacy-textblob)\n",
    "\n",
    "Every question that requires you to write code will have a code cell underneath it; you may either write your entire solution in that cell or write it in a python file (`.py`), then import and run the appropriate code to answer the question.\n",
    "\n",
    "This assignment requires that you write additional files (either JSON or pickle files); make sure to submit those files in your repository as well."
   ]
  },
  {
   "cell_type": "markdown",
   "metadata": {},
   "source": [
    "## https://github.com/SowdaminiKosuru/602-Mod4"
   ]
  },
  {
   "cell_type": "markdown",
   "metadata": {},
   "source": [
    "1. The following code accesses the [lyrics.ovh](https://lyricsovh.docs.apiary.io/#reference/0/lyrics-of-a-song/search) public api, searches for the lyrics of a song, and stores it in a dictionary object.  Write the resulting json to a file (either a JSON file or a pickle file; you choose). You will read in the contents of this file for future questions so we do not need to frequently access the API."
   ]
  },
  {
   "cell_type": "markdown",
   "metadata": {},
   "source": [
    "## Question - 1"
   ]
  },
  {
   "cell_type": "code",
   "execution_count": 1,
   "metadata": {},
   "outputs": [
    {
     "name": "stdout",
     "output_type": "stream",
     "text": [
      "Type: <class 'dict'>\n",
      "{'lyric1': {'lyric': \"Mirror, Tell me who's the fairest of them all, Even if I become a megalomaniac, Come and stroke my ego, Go, go, go , Let me enter your matrix, Taste your delights, No one can,  dissuade me from it, Go, go, go, I'll do anything to accompany you, I'm really one-track-minded, I'm fine in my bubble, Go, go, go, Everything is beautiful, Everything is rosy, For as long as I need it, Tell me, who's the fairest?Go, go, go, Go, go, go, Mirror, What have you done with my head?, This dishonest transformation, It's not what I asked for,Go, go, go, The buzz is nothing but a fake, I'm no longer in the matrix, There's no longer anyone to talk to about it, Go, go, go, I'll do anything to recover, What I'm currently ruining.Finally I've left my bubble, Go, go, go, Everything is beautiful, Everything is rosy, Before my ego imposes, I'm done with looking at you, Go, go, go, Go, go, go, Go, go, go, Ego Ego, Go, go, go.\", 'song': 'Ego'}, 'lyric2': {'lyric': \"From now on, I'm gonna be my own best friend.\", 'song': 'Me, Myself, and I'}, 'lyric3': {'lyric': \"I'mma keep runnin' because a winner don't quit on themselves.\", 'song': 'Freedom'}, 'lyric4': {'lyric': \"I woke up looking this good and I wouldn't change it if I could.\", 'song': 'Flawless'}, 'lyric5': {'lyric': \"I dream it. I work hard. I grind 'til I own it.\", 'song': 'Formation'}, 'lyric6': {'lyric': \"I woke up like this. I woke up like this. We flawless, ladies tell 'em.\", 'song': 'Flawless'}, 'lyric7': {'lyric': 'I am the dragon breathing fire. Beautiful mane, Iâ€™m the lion.', 'song': \"Don't hurt yourself\"}, 'lyric8': {'lyric': 'She too smart to crave material things. She pushing herself day and night. She grinds from Monday to Friday works from Friday to Sunday.', 'song': '6 Inch'}, 'lyric9': {'lyric': 'You ainâ€™t never seen a fire like the one Iâ€™ma cause.', 'song': 'Ring the Alarm'}, 'lyric10': {'lyric': \"I'm the number one chick, I don't need no hype.\", 'song': 'Bow Down'}, 'lyric11': {'lyric': \"I'm the number one chick. I don't need no hype.\", 'song': 'Bow Down'}, 'lyric12': {'lyric': 'I was served lemons, but I made lemonade.', 'song': 'Freedom'}, 'lyric13': {'lyric': \"Sorry, I ain't sorry.\", 'song': 'Sorry'}, 'lyric14': {'lyric': \"We're smart enough to make these millions, smart enough to bear these children, then get back to business.\", 'song': 'Run the World'}, 'lyric15': {'lyric': 'Who run the world? Girls.', 'song': 'Run the World'}, 'lyric16': {'lyric': \"You must not know 'bout me.\", 'song': 'Irreplaceable'}, 'lyric17': {'lyric': 'I know the world and I know who I am. Itâ€™s â€˜bout time I show it.', 'song': 'Grown Woman'}, 'lyric18': {'lyric': 'Iâ€™m a grown woman. I can whatever I want.', 'song': 'Grown Woman'}, 'lyric19': {'lyric': 'Thereâ€™s nothing not to love about me. Iâ€™m lovely.', 'song': 'Sasha Fierce'}, 'lyric20': {'lyric': 'Iâ€™m comfortable in my skin.', 'song': 'Rocket'}, 'lyric21': {'lyric': 'You know I give you life.', 'song': 'Donâ€™t Hurt Yourself'}, 'lyric22': {'lyric': 'Iâ€™m a diva.', 'song': 'Diva'}, 'lyric23': {'lyric': 'Been a number one diva in this game for a minute.', 'song': 'Diva'}, 'lyric24': {'lyric': 'I talk like this cause I can back it up. I walk this cause I can back it up.', 'song': 'Ego'}}\n"
     ]
    }
   ],
   "source": [
    "import json\n",
    "\n",
    "with open('lyrics.json','r') as json_file:\n",
    "    data = json.load(json_file)\n",
    "\n",
    "print(\"Type:\", type(data))\n",
    "print(data)"
   ]
  },
  {
   "cell_type": "markdown",
   "metadata": {},
   "source": [
    "2. Read in the contents of your file.  Print the lyrics of the song (not the entire dictionary!) and use spaCyTextBlob to perform sentiment analysis on the lyrics.  Print the polarity score of the sentiment analysis.  Given that the range of the polarity score is `[-1.0,1.0]` which corresponds to how positive or negative the text in question is, do you think the lyrics have a more positive or negative connotaion?  Answer this question in a comment in your code cell."
   ]
  },
  {
   "cell_type": "markdown",
   "metadata": {},
   "source": [
    "## Question -2"
   ]
  },
  {
   "cell_type": "code",
   "execution_count": 2,
   "metadata": {},
   "outputs": [
    {
     "name": "stdout",
     "output_type": "stream",
     "text": [
      "Mirror, Tell me who's the fairest of them all, Even if I become a megalomaniac, Come and stroke my ego, Go, go, go , Let me enter your matrix, Taste your delights, No one can,  dissuade me from it, Go, go, go, I'll do anything to accompany you, I'm really one-track-minded, I'm fine in my bubble, Go, go, go, Everything is beautiful, Everything is rosy, For as long as I need it, Tell me, who's the fairest?Go, go, go, Go, go, go, Mirror, What have you done with my head?, This dishonest transformation, It's not what I asked for,Go, go, go, The buzz is nothing but a fake, I'm no longer in the matrix, There's no longer anyone to talk to about it, Go, go, go, I'll do anything to recover, What I'm currently ruining.Finally I've left my bubble, Go, go, go, Everything is beautiful, Everything is rosy, Before my ego imposes, I'm done with looking at you, Go, go, go, Go, go, go, Go, go, go, Ego Ego, Go, go, go.\n"
     ]
    },
    {
     "data": {
      "text/plain": [
       "Sentiment(polarity=0.16296296296296298, subjectivity=0.5555555555555556)"
      ]
     },
     "execution_count": 2,
     "metadata": {},
     "output_type": "execute_result"
    }
   ],
   "source": [
    "from textblob import TextBlob\n",
    "\n",
    "lyric_1 = data['lyric1']['lyric']\n",
    "print(lyric_1)\n",
    "data1 = TextBlob(lyric_1)\n",
    "data1.sentiment\n",
    "\n",
    "#On seeing the polarity and subjectivity they are towards positive 1. \n",
    "#By exactly seeing the values we can say that they are Neutral."
   ]
  },
  {
   "cell_type": "markdown",
   "metadata": {},
   "source": [
    "3. Write a function that takes an artist, song, and filename, accesses the lyrics.ovh api to get the song lyrics, and writes the results to the specified filename.  Test this function by getting the lyrics to any four songs of your choice and storing them in different files."
   ]
  },
  {
   "cell_type": "markdown",
   "metadata": {},
   "source": [
    "## Question - 3"
   ]
  },
  {
   "cell_type": "code",
   "execution_count": 3,
   "metadata": {},
   "outputs": [
    {
     "name": "stdout",
     "output_type": "stream",
     "text": [
      "lyric1 created\n",
      "lyric2 created\n",
      "lyric3 created\n",
      "lyric4 created\n"
     ]
    }
   ],
   "source": [
    "lyrics = ['lyric1','lyric2','lyric3','lyric4']\n",
    "\n",
    "for i in lyrics:\n",
    "    lyric_write = data[i]\n",
    "    file1 = open(i+'.json', \"w\")\n",
    "    file1.write(json.dumps(lyric_write))\n",
    "    file1.close()\n",
    "    print(i,'created')"
   ]
  },
  {
   "cell_type": "markdown",
   "metadata": {},
   "source": [
    "4. Write a function that takes the name of a file that contains song lyrics, loads the file, performs sentiment analysis, and returns the polarity score.  Use this function to print the polarity scores (with the name of the song) of the three files you created in question 3.  Does the reported polarity match your understanding of the song's lyrics? Why or why not do you think that might be?  Answer the questions in either a comment in the code cell or a markdown cell under the code cell."
   ]
  },
  {
   "cell_type": "markdown",
   "metadata": {},
   "source": [
    "## Question - 4"
   ]
  },
  {
   "cell_type": "code",
   "execution_count": 4,
   "metadata": {},
   "outputs": [
    {
     "name": "stdout",
     "output_type": "stream",
     "text": [
      "Sentiment Analysis for lyric1.json\n",
      "Song Name: Ego\n",
      "Sentiment(polarity=0.16296296296296298, subjectivity=0.5555555555555556)\n",
      "Sentiment Analysis for lyric2.json\n",
      "Song Name: Me, Myself, and I\n",
      "Sentiment(polarity=0.8, subjectivity=0.65)\n",
      "Sentiment Analysis for lyric3.json\n",
      "Song Name: Freedom\n",
      "Sentiment(polarity=0.0, subjectivity=0.0)\n"
     ]
    }
   ],
   "source": [
    "lyric_files = ['lyric1.json','lyric2.json','lyric3.json']\n",
    "\n",
    "for i in lyric_files:\n",
    "    print('Sentiment Analysis for',i)\n",
    "    with open(i , 'r') as lyric_file:\n",
    "        json_object = json.load(lyric_file)\n",
    "    print('Song Name:',json_object['song'])\n",
    "    lyric_1 = json_object['lyric']\n",
    "    data1 = TextBlob(lyric_1)\n",
    "    print(data1.sentiment)"
   ]
  },
  {
   "cell_type": "markdown",
   "metadata": {},
   "source": [
    "I believe these sentiment for the given sentences are as per the words used in here. These match my understanding of the lyrics. Most of the sentences are towards the positive side of the words, so i think they match "
   ]
  }
 ],
 "metadata": {
  "kernelspec": {
   "display_name": "Python 3 (ipykernel)",
   "language": "python",
   "name": "python3"
  },
  "language_info": {
   "codemirror_mode": {
    "name": "ipython",
    "version": 3
   },
   "file_extension": ".py",
   "mimetype": "text/x-python",
   "name": "python",
   "nbconvert_exporter": "python",
   "pygments_lexer": "ipython3",
   "version": "3.9.12"
  }
 },
 "nbformat": 4,
 "nbformat_minor": 4
}
